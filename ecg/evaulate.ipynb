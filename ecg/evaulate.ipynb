{
 "cells": [
  {
   "cell_type": "code",
   "execution_count": 1,
   "metadata": {},
   "outputs": [
    {
     "name": "stderr",
     "output_type": "stream",
     "text": [
      "Using TensorFlow backend.\n"
     ]
    }
   ],
   "source": [
    "import json\n",
    "import numpy as np\n",
    "import scipy.stats as sst\n",
    "from sklearn.metrics import classification_report\n",
    "from sklearn.preprocessing import MultiLabelBinarizer\n",
    "from sklearn.metrics import f1_score, confusion_matrix, recall_score, precision_recall_fscore_support\n",
    "import load\n",
    "\n",
    "\n",
    "def load_dataset(data_json):\n",
    "    with open(data_json, 'r') as fid:\n",
    "        data = [json.loads(l) for l in fid]\n",
    "    labels = []\n",
    "    for d in data:\n",
    "        labels.append(d['labels'])\n",
    "    return labels"
   ]
  },
  {
   "cell_type": "code",
   "execution_count": 2,
   "metadata": {},
   "outputs": [
    {
     "name": "stdout",
     "output_type": "stream",
     "text": [
      "/home/q/Documents/master/TEL531E/termproject/ecg-master\n"
     ]
    }
   ],
   "source": [
    "%cd .."
   ]
  },
  {
   "cell_type": "code",
   "execution_count": 3,
   "metadata": {},
   "outputs": [
    {
     "name": "stderr",
     "output_type": "stream",
     "text": [
      "100%|██████████| 7676/7676 [00:16<00:00, 474.04it/s]\n"
     ]
    }
   ],
   "source": [
    "classes = [\"A\", \"N\", \"O\", \"~\"]\n",
    "classes = sorted(set(classes))\n",
    "\n",
    "int_to_class = dict(zip(range(len(classes)), classes))\n",
    "class_to_int = {c : i for i, c in int_to_class.items()}\n",
    "\n",
    "path_preds = \"saved/preds/1607813643-299/preds.txt\"\n",
    "path_preds = \"saved/preds/1607813643-299/preds_train.txt\"\n",
    "pred_porbs = np.loadtxt(path_preds)\n",
    "pred_porbs = pred_porbs.reshape((pred_porbs.shape[0], pred_porbs.shape[1]/len(classes), len(classes)))\n",
    "y_pred = np.argmax(pred_porbs, axis=2)\n",
    "#preds = np.array([int_to_class[x] for x in preds[0]])\n",
    "\n",
    "\n",
    "#path_actual = \"examples/cinc17/val.json\"\n",
    "path_actual = \"examples/cinc17/train.json\"\n",
    "actual = load.load_dataset(path_actual)\n",
    "\n",
    "preproc = load.Preproc(*actual)\n",
    "y_true = preproc.process_y(actual[1])\n",
    "y_true = np.argmax(y_true, axis=2)"
   ]
  },
  {
   "cell_type": "code",
   "execution_count": 4,
   "metadata": {},
   "outputs": [],
   "source": [
    "def acc(y_true, y_pred):\n",
    "    pred_values, true_values = [], []\n",
    "    for i in range(len(y_true)):\n",
    "        label_len = len(actual[1][i])\n",
    "        pred_values.append(sst.mode(y_pred[i, :label_len])[0][0])\n",
    "        true_values.append(sst.mode(y_true[i, :label_len])[0][0])\n",
    "\n",
    "    return np.array(pred_values), np.array(true_values)"
   ]
  },
  {
   "cell_type": "code",
   "execution_count": 5,
   "metadata": {},
   "outputs": [],
   "source": [
    "p,t = acc(y_true, y_pred)"
   ]
  },
  {
   "cell_type": "code",
   "execution_count": 6,
   "metadata": {},
   "outputs": [
    {
     "name": "stdout",
     "output_type": "stream",
     "text": [
      "              precision    recall  f1-score   support\n",
      "\n",
      "           0       0.89      0.75      0.81       659\n",
      "           1       0.95      0.71      0.81      4544\n",
      "           2       0.57      0.89      0.70      2220\n",
      "           3       0.73      0.66      0.70       253\n",
      "\n",
      "   micro avg       0.77      0.77      0.77      7676\n",
      "   macro avg       0.78      0.75      0.75      7676\n",
      "weighted avg       0.83      0.77      0.78      7676\n",
      "\n"
     ]
    }
   ],
   "source": [
    "print(classification_report(t, p))"
   ]
  },
  {
   "cell_type": "code",
   "execution_count": 7,
   "metadata": {},
   "outputs": [
    {
     "name": "stdout",
     "output_type": "stream",
     "text": [
      "CINC Average 0.774257\n"
     ]
    }
   ],
   "source": [
    "scores = precision_recall_fscore_support(\n",
    "                    t,\n",
    "                    p,\n",
    "                    average=None)\n",
    "print \"CINC Average {:3f}\".format(np.mean(scores[2][:3]))"
   ]
  },
  {
   "cell_type": "code",
   "execution_count": 11,
   "metadata": {},
   "outputs": [
    {
     "data": {
      "text/plain": [
       "array([0.81152263, 0.81455458, 0.69669247])"
      ]
     },
     "execution_count": 11,
     "metadata": {},
     "output_type": "execute_result"
    }
   ],
   "source": [
    "scores[2][:3]"
   ]
  },
  {
   "cell_type": "code",
   "execution_count": null,
   "metadata": {},
   "outputs": [],
   "source": []
  }
 ],
 "metadata": {
  "kernelspec": {
   "display_name": "Python 2",
   "language": "python",
   "name": "python2"
  },
  "language_info": {
   "codemirror_mode": {
    "name": "ipython",
    "version": 2
   },
   "file_extension": ".py",
   "mimetype": "text/x-python",
   "name": "python",
   "nbconvert_exporter": "python",
   "pygments_lexer": "ipython2",
   "version": "2.7.17"
  }
 },
 "nbformat": 4,
 "nbformat_minor": 2
}
